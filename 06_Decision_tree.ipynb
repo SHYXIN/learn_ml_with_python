{
 "cells": [
  {
   "cell_type": "code",
   "execution_count": 35,
   "id": "8ed5a4d0",
   "metadata": {},
   "outputs": [
    {
     "data": {
      "text/html": [
       "<div>\n",
       "<style scoped>\n",
       "    .dataframe tbody tr th:only-of-type {\n",
       "        vertical-align: middle;\n",
       "    }\n",
       "\n",
       "    .dataframe tbody tr th {\n",
       "        vertical-align: top;\n",
       "    }\n",
       "\n",
       "    .dataframe thead th {\n",
       "        text-align: right;\n",
       "    }\n",
       "</style>\n",
       "<table border=\"1\" class=\"dataframe\">\n",
       "  <thead>\n",
       "    <tr style=\"text-align: right;\">\n",
       "      <th></th>\n",
       "      <th>公司</th>\n",
       "      <th>职位</th>\n",
       "      <th>学历</th>\n",
       "      <th>薪资是否超过100k</th>\n",
       "    </tr>\n",
       "  </thead>\n",
       "  <tbody>\n",
       "    <tr>\n",
       "      <th>0</th>\n",
       "      <td>Google</td>\n",
       "      <td>销售主管</td>\n",
       "      <td>学士</td>\n",
       "      <td>否</td>\n",
       "    </tr>\n",
       "    <tr>\n",
       "      <th>1</th>\n",
       "      <td>Google</td>\n",
       "      <td>销售主管</td>\n",
       "      <td>硕士</td>\n",
       "      <td>否</td>\n",
       "    </tr>\n",
       "    <tr>\n",
       "      <th>2</th>\n",
       "      <td>Google</td>\n",
       "      <td>业务经理</td>\n",
       "      <td>学士</td>\n",
       "      <td>是</td>\n",
       "    </tr>\n",
       "    <tr>\n",
       "      <th>3</th>\n",
       "      <td>Google</td>\n",
       "      <td>业务经理</td>\n",
       "      <td>硕士</td>\n",
       "      <td>是</td>\n",
       "    </tr>\n",
       "    <tr>\n",
       "      <th>4</th>\n",
       "      <td>Google</td>\n",
       "      <td>计算机程序员</td>\n",
       "      <td>学士</td>\n",
       "      <td>否</td>\n",
       "    </tr>\n",
       "  </tbody>\n",
       "</table>\n",
       "</div>"
      ],
      "text/plain": [
       "       公司      职位  学历 薪资是否超过100k\n",
       "0  Google    销售主管  学士          否\n",
       "1  Google    销售主管  硕士          否\n",
       "2  Google    业务经理  学士          是\n",
       "3  Google    业务经理  硕士          是\n",
       "4  Google  计算机程序员  学士          否"
      ]
     },
     "execution_count": 35,
     "metadata": {},
     "output_type": "execute_result"
    }
   ],
   "source": [
    "import pandas as pd\n",
    "\n",
    "ori_data = pd.read_csv('data/薪资.csv', encoding='utf-8')\n",
    "ori_data.head()"
   ]
  },
  {
   "cell_type": "code",
   "execution_count": 36,
   "id": "cd20f4ec",
   "metadata": {},
   "outputs": [
    {
     "data": {
      "text/html": [
       "<div>\n",
       "<style scoped>\n",
       "    .dataframe tbody tr th:only-of-type {\n",
       "        vertical-align: middle;\n",
       "    }\n",
       "\n",
       "    .dataframe tbody tr th {\n",
       "        vertical-align: top;\n",
       "    }\n",
       "\n",
       "    .dataframe thead th {\n",
       "        text-align: right;\n",
       "    }\n",
       "</style>\n",
       "<table border=\"1\" class=\"dataframe\">\n",
       "  <thead>\n",
       "    <tr style=\"text-align: right;\">\n",
       "      <th></th>\n",
       "      <th>公司</th>\n",
       "      <th>职位</th>\n",
       "      <th>学历</th>\n",
       "      <th>薪资是否超过100k</th>\n",
       "    </tr>\n",
       "  </thead>\n",
       "  <tbody>\n",
       "    <tr>\n",
       "      <th>0</th>\n",
       "      <td>2</td>\n",
       "      <td>2</td>\n",
       "      <td>0</td>\n",
       "      <td>0</td>\n",
       "    </tr>\n",
       "    <tr>\n",
       "      <th>1</th>\n",
       "      <td>2</td>\n",
       "      <td>2</td>\n",
       "      <td>1</td>\n",
       "      <td>0</td>\n",
       "    </tr>\n",
       "    <tr>\n",
       "      <th>2</th>\n",
       "      <td>2</td>\n",
       "      <td>0</td>\n",
       "      <td>0</td>\n",
       "      <td>1</td>\n",
       "    </tr>\n",
       "    <tr>\n",
       "      <th>3</th>\n",
       "      <td>2</td>\n",
       "      <td>0</td>\n",
       "      <td>1</td>\n",
       "      <td>1</td>\n",
       "    </tr>\n",
       "    <tr>\n",
       "      <th>4</th>\n",
       "      <td>2</td>\n",
       "      <td>1</td>\n",
       "      <td>0</td>\n",
       "      <td>0</td>\n",
       "    </tr>\n",
       "  </tbody>\n",
       "</table>\n",
       "</div>"
      ],
      "text/plain": [
       "   公司  职位  学历  薪资是否超过100k\n",
       "0   2   2   0           0\n",
       "1   2   2   1           0\n",
       "2   2   0   0           1\n",
       "3   2   0   1           1\n",
       "4   2   1   0           0"
      ]
     },
     "execution_count": 36,
     "metadata": {},
     "output_type": "execute_result"
    }
   ],
   "source": [
    "# 导入sklearn的预处理子模块\n",
    "from sklearn import preprocessing\n",
    "\n",
    "# 标签编码器，用于转换分类数据\n",
    "label_encoder = preprocessing.LabelEncoder()\n",
    "# 将每列的分类数据转成数字，才能传递给模型\n",
    "data =pd.DataFrame()\n",
    "data['公司']= label_encoder.fit_transform(ori_data['公司'])\n",
    "data['职位']= label_encoder.fit_transform(ori_data['职位'])\n",
    "data['学历']= label_encoder.fit_transform(ori_data['学历'])\n",
    "data['薪资是否超过100k'] = label_encoder.fit_transform(ori_data['薪资是否超过100k'])\n",
    "data.head()"
   ]
  },
  {
   "cell_type": "code",
   "execution_count": 37,
   "id": "2308290f",
   "metadata": {},
   "outputs": [
    {
     "data": {
      "text/html": [
       "<div>\n",
       "<style scoped>\n",
       "    .dataframe tbody tr th:only-of-type {\n",
       "        vertical-align: middle;\n",
       "    }\n",
       "\n",
       "    .dataframe tbody tr th {\n",
       "        vertical-align: top;\n",
       "    }\n",
       "\n",
       "    .dataframe thead th {\n",
       "        text-align: right;\n",
       "    }\n",
       "</style>\n",
       "<table border=\"1\" class=\"dataframe\">\n",
       "  <thead>\n",
       "    <tr style=\"text-align: right;\">\n",
       "      <th></th>\n",
       "      <th>公司</th>\n",
       "      <th>职位</th>\n",
       "      <th>学历</th>\n",
       "    </tr>\n",
       "  </thead>\n",
       "  <tbody>\n",
       "    <tr>\n",
       "      <th>0</th>\n",
       "      <td>2</td>\n",
       "      <td>2</td>\n",
       "      <td>0</td>\n",
       "    </tr>\n",
       "    <tr>\n",
       "      <th>1</th>\n",
       "      <td>2</td>\n",
       "      <td>2</td>\n",
       "      <td>1</td>\n",
       "    </tr>\n",
       "    <tr>\n",
       "      <th>2</th>\n",
       "      <td>2</td>\n",
       "      <td>0</td>\n",
       "      <td>0</td>\n",
       "    </tr>\n",
       "    <tr>\n",
       "      <th>3</th>\n",
       "      <td>2</td>\n",
       "      <td>0</td>\n",
       "      <td>1</td>\n",
       "    </tr>\n",
       "    <tr>\n",
       "      <th>4</th>\n",
       "      <td>2</td>\n",
       "      <td>1</td>\n",
       "      <td>0</td>\n",
       "    </tr>\n",
       "  </tbody>\n",
       "</table>\n",
       "</div>"
      ],
      "text/plain": [
       "   公司  职位  学历\n",
       "0   2   2   0\n",
       "1   2   2   1\n",
       "2   2   0   0\n",
       "3   2   0   1\n",
       "4   2   1   0"
      ]
     },
     "execution_count": 37,
     "metadata": {},
     "output_type": "execute_result"
    }
   ],
   "source": [
    "# 将数据集的特征X和标签Y分开\n",
    "feature_cols = ['公司','职位','学历']\n",
    "tartget_names = label_encoder.classes_\n",
    "X = data[feature_cols]\n",
    "y = data['薪资是否超过100k']\n",
    "X[:5]"
   ]
  },
  {
   "cell_type": "code",
   "execution_count": 38,
   "id": "4c63f4df",
   "metadata": {},
   "outputs": [
    {
     "data": {
      "text/plain": [
       "0    0\n",
       "1    0\n",
       "2    1\n",
       "3    1\n",
       "4    0\n",
       "Name: 薪资是否超过100k, dtype: int32"
      ]
     },
     "execution_count": 38,
     "metadata": {},
     "output_type": "execute_result"
    }
   ],
   "source": [
    "y[:5]"
   ]
  },
  {
   "cell_type": "code",
   "execution_count": 39,
   "id": "c3ab59a9",
   "metadata": {},
   "outputs": [],
   "source": [
    "from sklearn.tree import DecisionTreeClassifier # 导入决策树模型\n",
    "from sklearn.model_selection import train_test_split # 导入训练集测试集切分函数\n",
    "from sklearn import metrics # 导入sklearn的模型评价子模块"
   ]
  },
  {
   "cell_type": "code",
   "execution_count": 40,
   "id": "b09580a7",
   "metadata": {},
   "outputs": [],
   "source": [
    "X_train, X_test,y_train,y_test = train_test_split(X,y,test_size=0.3,random_state=100)"
   ]
  },
  {
   "cell_type": "code",
   "execution_count": 41,
   "id": "a54186a4",
   "metadata": {},
   "outputs": [
    {
     "data": {
      "text/html": [
       "<div>\n",
       "<style scoped>\n",
       "    .dataframe tbody tr th:only-of-type {\n",
       "        vertical-align: middle;\n",
       "    }\n",
       "\n",
       "    .dataframe tbody tr th {\n",
       "        vertical-align: top;\n",
       "    }\n",
       "\n",
       "    .dataframe thead th {\n",
       "        text-align: right;\n",
       "    }\n",
       "</style>\n",
       "<table border=\"1\" class=\"dataframe\">\n",
       "  <thead>\n",
       "    <tr style=\"text-align: right;\">\n",
       "      <th></th>\n",
       "      <th>公司</th>\n",
       "      <th>职位</th>\n",
       "      <th>学历</th>\n",
       "    </tr>\n",
       "  </thead>\n",
       "  <tbody>\n",
       "    <tr>\n",
       "      <th>6</th>\n",
       "      <td>0</td>\n",
       "      <td>2</td>\n",
       "      <td>1</td>\n",
       "    </tr>\n",
       "    <tr>\n",
       "      <th>14</th>\n",
       "      <td>1</td>\n",
       "      <td>1</td>\n",
       "      <td>0</td>\n",
       "    </tr>\n",
       "    <tr>\n",
       "      <th>5</th>\n",
       "      <td>2</td>\n",
       "      <td>1</td>\n",
       "      <td>1</td>\n",
       "    </tr>\n",
       "    <tr>\n",
       "      <th>2</th>\n",
       "      <td>2</td>\n",
       "      <td>0</td>\n",
       "      <td>0</td>\n",
       "    </tr>\n",
       "    <tr>\n",
       "      <th>4</th>\n",
       "      <td>2</td>\n",
       "      <td>1</td>\n",
       "      <td>0</td>\n",
       "    </tr>\n",
       "  </tbody>\n",
       "</table>\n",
       "</div>"
      ],
      "text/plain": [
       "    公司  职位  学历\n",
       "6    0   2   1\n",
       "14   1   1   0\n",
       "5    2   1   1\n",
       "2    2   0   0\n",
       "4    2   1   0"
      ]
     },
     "execution_count": 41,
     "metadata": {},
     "output_type": "execute_result"
    }
   ],
   "source": [
    "X_train[:5]"
   ]
  },
  {
   "cell_type": "code",
   "execution_count": 42,
   "id": "27908c92",
   "metadata": {},
   "outputs": [
    {
     "name": "stdout",
     "output_type": "stream",
     "text": [
      "Accuracy: 0.4\n"
     ]
    }
   ],
   "source": [
    "# 创建决策树分类器，使用entropy作为分裂准则\n",
    "clf_entropy = DecisionTreeClassifier(criterion=\"entropy\", max_depth=3, random_state=100)\n",
    "# 在训练集上进行训练\n",
    "clf_entropy = clf_entropy.fit(X_train,y_train)\n",
    "# 在测试集上进行预测\n",
    "y_pred = clf_entropy.predict(X_test)\n",
    "\n",
    "# 输出模型的准确率\n",
    "print(\"Accuracy:\", metrics.accuracy_score(y_test,y_pred))"
   ]
  },
  {
   "cell_type": "code",
   "execution_count": 43,
   "id": "21c9ae07",
   "metadata": {},
   "outputs": [
    {
     "name": "stdout",
     "output_type": "stream",
     "text": [
      "Accuracy: 0.0\n"
     ]
    }
   ],
   "source": [
    "# # 创建决策树分类器，使用gini为分裂准则\n",
    "clf_gini = DecisionTreeClassifier(criterion=\"gini\",random_state=100,\n",
    "                                  max_depth=3, min_samples_leaf=5)\n",
    "# Performing training\n",
    "clf_gini.fit(X_train, y_train)\n",
    "y_pred = clf_gini.predict(X_test)\n",
    "\n",
    "print(\"Accuracy:\", metrics.accuracy_score(y_test,y_pred))\n",
    "\n",
    "# entropy 关注数据集的混乱程度，而 gini 关注数据集中不同类别样本的混合程度。\n",
    "# entropy 越大，数据集越混乱，分类难度越大；gini 越小，数据集越纯净，分类难度越小\n",
    "# 对于数据集较小的情况，可以使用 entropy，因为 entropy 计算更简单，更容易收敛。"
   ]
  },
  {
   "cell_type": "code",
   "execution_count": 44,
   "id": "fa09e6c9",
   "metadata": {},
   "outputs": [
    {
     "data": {
      "image/png": "[encoded data removed]",
      "text/plain": [
       "<Figure size 640x480 with 1 Axes>"
      ]
     },
     "metadata": {},
     "output_type": "display_data"
    }
   ],
   "source": [
    "from sklearn import tree\n",
    "import matplotlib\n",
    "import matplotlib.pyplot as plt\n",
    "matplotlib.rcParams['font.family'] ='Microsoft Yahei'\n",
    "tree.plot_tree(clf_entropy, filled=True, \n",
    "               feature_names=feature_cols, class_names=['否', '是'])\n",
    "plt.show()"
   ]
  },
  {
   "cell_type": "code",
   "execution_count": 45,
   "id": "3b344a42",
   "metadata": {},
   "outputs": [
    {
     "data": {
      "image/png": "[encoded data removed]",
      "text/plain": [
       "<Figure size 640x480 with 1 Axes>"
      ]
     },
     "metadata": {},
     "output_type": "display_data"
    }
   ],
   "source": [
    "tree.plot_tree(clf_gini, filled=True, \n",
    "               feature_names=feature_cols, class_names=['否', '是'])\n",
    "plt.show()"
   ]
  },
  {
   "cell_type": "code",
   "execution_count": 46,
   "id": "26a5ef83",
   "metadata": {},
   "outputs": [
    {
     "name": "stdout",
     "output_type": "stream",
     "text": [
      "|--- 公司 <= 0.50\n",
      "|   |--- class: 0\n",
      "|--- 公司 >  0.50\n",
      "|   |--- 职位 <= 1.50\n",
      "|   |   |--- 职位 <= 0.50\n",
      "|   |   |   |--- class: 1\n",
      "|   |   |--- 职位 >  0.50\n",
      "|   |   |   |--- class: 1\n",
      "|   |--- 职位 >  1.50\n",
      "|   |   |--- class: 0\n",
      "\n"
     ]
    }
   ],
   "source": [
    "from sklearn.tree import export_text\n",
    "r_entropy = export_text(clf_entropy, feature_names=feature_cols)\n",
    "r_gini = export_text(clf_gini, feature_names=feature_cols)\n",
    "print(r_entropy)"
   ]
  },
  {
   "cell_type": "code",
   "execution_count": 47,
   "id": "a1c8ea77",
   "metadata": {
    "scrolled": true
   },
   "outputs": [
    {
     "name": "stdout",
     "output_type": "stream",
     "text": [
      "|--- 公司 <= 1.50\n",
      "|   |--- class: 0\n",
      "|--- 公司 >  1.50\n",
      "|   |--- class: 1\n",
      "\n"
     ]
    }
   ],
   "source": [
    "print(r_gini)"
   ]
  },
  {
   "cell_type": "code",
   "execution_count": null,
   "id": "cc803539",
   "metadata": {},
   "outputs": [],
   "source": [
    "# !conda install anaconda::graphviz\n",
    "# !conda install python-graphviz\n",
    "\n",
    "# graphviz  安装graphviz软件，包含命令行工具\n",
    "#  python-graphviz  Python 中创建和可视化 Graphviz 图形"
   ]
  },
  {
   "cell_type": "code",
   "execution_count": 49,
   "id": "0dfe1f52",
   "metadata": {},
   "outputs": [
    {
     "name": "stdout",
     "output_type": "stream",
     "text": [
      "digraph Tree {\n",
      "node [shape=box, style=\"filled, rounded\", color=\"black\", fontname=\"Microsoft Yahei\"] ;\n",
      "edge [fontname=\"Microsoft Yahei\"] ;\n",
      "0 [label=<公司 &le; 0.5<br/>entropy = 0.994<br/>samples = 11<br/>value = [5, 6]<br/>class = 是>, fillcolor=\"#deeffb\"] ;\n",
      "1 [label=<entropy = 0.0<br/>samples = 3<br/>value = [3, 0]<br/>class = 否>, fillcolor=\"#e58139\"] ;\n",
      "0 -> 1 [labeldistance=2.5, labelangle=45, headlabel=\"True\"] ;\n",
      "2 [label=<职位 &le; 1.5<br/>entropy = 0.811<br/>samples = 8<br/>value = [2, 6]<br/>class = 是>, fillcolor=\"#7bbeee\"] ;\n",
      "0 -> 2 [labeldistance=2.5, labelangle=-45, headlabel=\"False\"] ;\n",
      "3 [label=<职位 &le; 0.5<br/>entropy = 0.592<br/>samples = 7<br/>value = [1, 6]<br/>class = 是>, fillcolor=\"#5aade9\"] ;\n",
      "2 -> 3 ;\n",
      "4 [label=<entropy = 0.0<br/>samples = 3<br/>value = [0, 3]<br/>class = 是>, fillcolor=\"#399de5\"] ;\n",
      "3 -> 4 ;\n",
      "5 [label=<entropy = 0.811<br/>samples = 4<br/>value = [1, 3]<br/>class = 是>, fillcolor=\"#7bbeee\"] ;\n",
      "3 -> 5 ;\n",
      "6 [label=<entropy = 0.0<br/>samples = 1<br/>value = [1, 0]<br/>class = 否>, fillcolor=\"#e58139\"] ;\n",
      "2 -> 6 ;\n",
      "}\n"
     ]
    },
    {
     "data": {
      "text/plain": [
       "'data\\\\salaries_entropy.pdf'"
      ]
     },
     "execution_count": 49,
     "metadata": {},
     "output_type": "execute_result"
    }
   ],
   "source": [
    "from sklearn.tree import export_graphviz\n",
    "import graphviz\n",
    "dot_data = export_graphviz(clf_entropy, out_file=None,\n",
    "                           # feature_names=['company','job','degree'],\n",
    "                           feature_names=feature_cols,\n",
    "                           class_names=['否', '是'],\n",
    "                           filled=True, rounded=True,\n",
    "                           special_characters=True,\n",
    "                           fontname='Microsoft Yahei'\n",
    "                           )\n",
    "print(dot_data)\n",
    "graph = graphviz.Source(dot_data)\n",
    "graph.render(\"data/salaries_entropy\")"
   ]
  },
  {
   "cell_type": "code",
   "execution_count": 51,
   "id": "ac491b39",
   "metadata": {},
   "outputs": [
    {
     "name": "stdout",
     "output_type": "stream",
     "text": [
      "digraph Tree {\n",
      "node [shape=box, style=\"filled, rounded\", color=\"black\", fontname=\"Microsoft Yahei\"] ;\n",
      "edge [fontname=\"Microsoft Yahei\"] ;\n",
      "0 [label=<公司 &le; 1.5<br/>gini = 0.496<br/>samples = 11<br/>value = [5, 6]<br/>class = 是>, fillcolor=\"#deeffb\"] ;\n",
      "1 [label=<gini = 0.5<br/>samples = 6<br/>value = [3, 3]<br/>class = 否>, fillcolor=\"#ffffff\"] ;\n",
      "0 -> 1 [labeldistance=2.5, labelangle=45, headlabel=\"True\"] ;\n",
      "2 [label=<gini = 0.48<br/>samples = 5<br/>value = [2, 3]<br/>class = 是>, fillcolor=\"#bddef6\"] ;\n",
      "0 -> 2 [labeldistance=2.5, labelangle=-45, headlabel=\"False\"] ;\n",
      "}\n"
     ]
    },
    {
     "data": {
      "text/plain": [
       "'data\\\\salaries_gini.pdf'"
      ]
     },
     "execution_count": 51,
     "metadata": {},
     "output_type": "execute_result"
    }
   ],
   "source": [
    "dot_data = export_graphviz(clf_gini, out_file=None,\n",
    "                           # feature_names=['company','job','degree'],\n",
    "                           feature_names=feature_cols,\n",
    "                           class_names=['否', '是'],\n",
    "                           filled=True, rounded=True,\n",
    "                           special_characters=True,\n",
    "                           fontname='Microsoft Yahei'\n",
    "                           )\n",
    "print(dot_data)\n",
    "graph = graphviz.Source(dot_data)\n",
    "graph.render(\"data/salaries_gini\")"
   ]
  }
 ],
 "metadata": {
  "kernelspec": {
   "display_name": "Python 3 (ipykernel)",
   "language": "python",
   "name": "python3"
  },
  "language_info": {
   "codemirror_mode": {
    "name": "ipython",
    "version": 3
   },
   "file_extension": ".py",
   "mimetype": "text/x-python",
   "name": "python",
   "nbconvert_exporter": "python",
   "pygments_lexer": "ipython3",
   "version": "3.10.9"
  }
 },
 "nbformat": 4,
 "nbformat_minor": 5
}
